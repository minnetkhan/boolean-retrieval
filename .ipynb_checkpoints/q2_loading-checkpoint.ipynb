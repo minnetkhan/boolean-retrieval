{
 "cells": [
  {
   "cell_type": "code",
   "execution_count": 49,
   "metadata": {},
   "outputs": [],
   "source": [
    "import preprocessing, pickle"
   ]
  },
  {
   "cell_type": "code",
   "execution_count": 50,
   "metadata": {},
   "outputs": [],
   "source": [
    "def load_data_fun(): \n",
    "    dbfile = open('pos_data.pkl', 'rb')\n",
    "    dbfile = pickle.load(dbfile)\n",
    "\n",
    "    positional_index = dbfile[2]\n",
    "    \n",
    "    return positional_index\n",
    "\n"
   ]
  },
  {
   "cell_type": "code",
   "execution_count": 51,
   "metadata": {},
   "outputs": [],
   "source": [
    "positional_index = load_data_fun()"
   ]
  },
  {
   "cell_type": "code",
   "execution_count": 52,
   "metadata": {
    "scrolled": true
   },
   "outputs": [
    {
     "name": "stdout",
     "output_type": "stream",
     "text": [
      "['replac', 'stock', 'windscreen']\n"
     ]
    }
   ],
   "source": [
    "query = \"replaced the stock windscreen\"\n",
    "query = preprocessing.normalize(query)\n",
    "print(query)"
   ]
  },
  {
   "cell_type": "code",
   "execution_count": 53,
   "metadata": {},
   "outputs": [],
   "source": [
    "docSet = set()\n",
    "\n",
    "for word in query:\n",
    "    if(len(docSet) == 0):\n",
    "        docSet = set(positional_index[word].keys())\n",
    "    else:\n",
    "        docSet = docSet.intersection(set(positional_index[word].keys()))"
   ]
  },
  {
   "cell_type": "code",
   "execution_count": 54,
   "metadata": {},
   "outputs": [],
   "source": [
    "query_dictionary = {}\n",
    "\n",
    "for word in query:\n",
    "    temp = positional_index[word].keys()\n",
    "    temp = list(docSet.intersection(set(temp)))\n",
    "    temp1 = {}\n",
    "    \n",
    "    for key in temp:\n",
    "        temp1[key] = positional_index[word][key]\n",
    "    \n",
    "    query_dictionary[word] = temp1    "
   ]
  },
  {
   "cell_type": "code",
   "execution_count": 55,
   "metadata": {},
   "outputs": [
    {
     "name": "stdout",
     "output_type": "stream",
     "text": [
      "{589}\n"
     ]
    }
   ],
   "source": [
    "print(docSet)"
   ]
  },
  {
   "cell_type": "code",
   "execution_count": 56,
   "metadata": {
    "scrolled": true
   },
   "outputs": [
    {
     "name": "stdout",
     "output_type": "stream",
     "text": [
      "['replac', 'stock', 'windscreen']\n",
      "DocID position\n",
      "589 \t 77\n"
     ]
    }
   ],
   "source": [
    "positional_index = load_data_fun()\n",
    "\n",
    "query = \"replaced the stock windscreen\"\n",
    "query = preprocessing.normalize(query)\n",
    "print(query)\n",
    "\n",
    "answer = []\n",
    "\n",
    "for docID in docSet:\n",
    "    word1 = query[0]\n",
    "#     print(docID)\n",
    "    for wordPosition in positional_index[word1][docID]:\n",
    "        nextPosition = wordPosition+1\n",
    "        \n",
    "#         print(wordPosition, end=\" \")\n",
    "        \n",
    "        for i in range(1, len(query)):\n",
    "            word2 = query[i]\n",
    "#             print(word2, end = \" \")\n",
    "            flag = False\n",
    "            \n",
    "            for j in positional_index[word2][docID]:\n",
    "#                 print(nextPosition, '<', j, end = \" \")\n",
    "                if(nextPosition == j):\n",
    "                    nextPosition += 1\n",
    "                    flag = True\n",
    "                    break\n",
    "                \n",
    "                if(nextPosition < j):\n",
    "                    flag = False\n",
    "                    break\n",
    "            \n",
    "#             print()\n",
    "            if flag == False:\n",
    "                break\n",
    "            \n",
    "            if i == len(query)-1 and flag==True:\n",
    "                answer.append((docID, wordPosition))\n",
    "            \n",
    "answer = set(answer)\n",
    "\n",
    "print(\"DocID\", \"position\")\n",
    "for val in answer:\n",
    "    print(val[0], \"\\t\",val[1])"
   ]
  },
  {
   "cell_type": "code",
   "execution_count": null,
   "metadata": {},
   "outputs": [],
   "source": []
  }
 ],
 "metadata": {
  "kernelspec": {
   "display_name": "Python 3",
   "language": "python",
   "name": "python3"
  },
  "language_info": {
   "codemirror_mode": {
    "name": "ipython",
    "version": 3
   },
   "file_extension": ".py",
   "mimetype": "text/x-python",
   "name": "python",
   "nbconvert_exporter": "python",
   "pygments_lexer": "ipython3",
   "version": "3.7.4"
  }
 },
 "nbformat": 4,
 "nbformat_minor": 2
}
