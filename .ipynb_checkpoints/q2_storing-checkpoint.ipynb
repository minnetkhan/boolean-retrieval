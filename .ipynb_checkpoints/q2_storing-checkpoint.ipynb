{
 "cells": [
  {
   "cell_type": "code",
   "execution_count": 4,
   "metadata": {},
   "outputs": [],
   "source": [
    "import pandas as pd\n",
    "import numpy as np\n",
    "import os, preprocessing, pickle\n",
    "import tqdm"
   ]
  },
  {
   "cell_type": "code",
   "execution_count": 5,
   "metadata": {},
   "outputs": [],
   "source": [
    "def retrieve_preprocess_data_fun(dirName, folder_names):\n",
    "    path = \"/Users/tonystark/iiitd/ir/assignments/A1_MT19040/20_newsgroups\"\n",
    "    folders = []\n",
    "    files = []\n",
    "    docs = []\n",
    "    vocab = set()\n",
    "\n",
    "    #loading folders\n",
    "    for folder in os.listdir(path):\n",
    "        if(folder == \"comp.graphics\" or folder == \"rec.motorcycles\"):\n",
    "            folders.append(folder)\n",
    "\n",
    "    for folder in folders:\n",
    "        newpath = path +'/'+folder\n",
    "        for file in os.listdir(newpath):\n",
    "            f = open(newpath+'/'+file, \"r\", errors='ignore')\n",
    "            doc = f.read()\n",
    "            \n",
    "            doc = preprocessing.normalize(doc)\n",
    "            vocab = vocab.union(set(doc))\n",
    "            docs.append(doc)\n",
    "            f.close()\n",
    "        \n",
    "        newpath = path\n",
    "\n",
    "    return docs, vocab\n",
    "\n",
    "\n",
    "def create_positional_index(docsSet, vocab):\n",
    "    positional_index = {}\n",
    "    \n",
    "    \n",
    "    for positional_index_word in vocab:\n",
    "        temp_dictionary = {}\n",
    "        \n",
    "        for docID, doc in enumerate(docsSet):\n",
    "            temp_word_position = []\n",
    "            for word_position, word in enumerate(doc):\n",
    "#                 if(positional_index_word == \"india\"):\n",
    "#                     print(word_position, word)\n",
    "                    \n",
    "                if word == positional_index_word:\n",
    "                    temp_word_position.append(word_position)\n",
    "            \n",
    "#             if(positional_index_word == \"india\"):\n",
    "#                 print(\"yolo\", temp_word_position)\n",
    "            if(len(temp_word_position) != 0):\n",
    "                temp_dictionary[docID] = temp_word_position\n",
    "        \n",
    "        positional_index[positional_index_word] = temp_dictionary\n",
    "    \n",
    "    return positional_index\n",
    "\n",
    "def storeData(dataSet, vocab, positional_index):\n",
    "    db = []\n",
    "    db.append(docsSet)\n",
    "    db.append(vocab)\n",
    "    db.append(positional_index)\n",
    "      \n",
    "    dbfile = open('pos_data.pkl', 'ab')  \n",
    "    pickle.dump(db, dbfile)                      \n",
    "    dbfile.close()"
   ]
  },
  {
   "cell_type": "code",
   "execution_count": 6,
   "metadata": {
    "scrolled": true
   },
   "outputs": [],
   "source": [
    "docsSet, vocab = retrieve_preprocess_data_fun('./20_newsgroups/', ['comp.graphics', 'rec.motorcycles'])"
   ]
  },
  {
   "cell_type": "code",
   "execution_count": 7,
   "metadata": {},
   "outputs": [],
   "source": [
    "positional_index = create_positional_index(docsSet, vocab)"
   ]
  },
  {
   "cell_type": "code",
   "execution_count": 8,
   "metadata": {},
   "outputs": [],
   "source": [
    "storeData(docsSet, vocab, positional_index)"
   ]
  },
  {
   "cell_type": "code",
   "execution_count": 9,
   "metadata": {},
   "outputs": [
    {
     "name": "stdout",
     "output_type": "stream",
     "text": [
      "<class 'dict'>\n"
     ]
    }
   ],
   "source": [
    "print(type(positional_index))"
   ]
  }
 ],
 "metadata": {
  "kernelspec": {
   "display_name": "Python 3",
   "language": "python",
   "name": "python3"
  },
  "language_info": {
   "codemirror_mode": {
    "name": "ipython",
    "version": 3
   },
   "file_extension": ".py",
   "mimetype": "text/x-python",
   "name": "python",
   "nbconvert_exporter": "python",
   "pygments_lexer": "ipython3",
   "version": "3.7.4"
  }
 },
 "nbformat": 4,
 "nbformat_minor": 2
}
