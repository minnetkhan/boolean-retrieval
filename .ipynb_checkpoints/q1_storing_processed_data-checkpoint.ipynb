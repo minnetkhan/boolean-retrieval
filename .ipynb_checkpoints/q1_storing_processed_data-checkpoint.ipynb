{
 "cells": [
  {
   "cell_type": "code",
   "execution_count": 4,
   "metadata": {},
   "outputs": [],
   "source": [
    "import pandas as pd\n",
    "import numpy as np\n",
    "import os, preprocessing, pickle"
   ]
  },
  {
   "cell_type": "code",
   "execution_count": 5,
   "metadata": {},
   "outputs": [],
   "source": [
    "def doc_id_mapping_fun(dirName):\n",
    "    doc_id = 0\n",
    "    docIDMapping = {}\n",
    "    \n",
    "    for currentpath, folders, files in os.walk(dirName):\n",
    "        for file in files:\n",
    "            if not file.startswith(\".\"):\n",
    "                docIDMapping[os.path.join(currentpath, file)] = doc_id\n",
    "                doc_id += 1\n",
    "    \n",
    "    return docIDMapping\n",
    "\n",
    "\n",
    "def preprocess_file_fun(docIDMapping):\n",
    "    docsSet = []\n",
    "    vocab = set()\n",
    "    \n",
    "    for key in docIDMapping:\n",
    "        file = open(key, 'r', errors='ignore').read()\n",
    "        file = preprocessing.normalize(file)\n",
    "        docsSet.append(set(file))\n",
    "        vocab = vocab.union(set(file))\n",
    "    \n",
    "    return docsSet, vocab\n",
    "\n",
    "\n",
    "def create_inverted_index(docsSet, vocab):\n",
    "    invertedIndex = {}\n",
    "    \n",
    "    for word in vocab:\n",
    "        for docID, docSet in enumerate(docsSet):\n",
    "            if word in docSet:\n",
    "                invertedIndex.setdefault(word, set()).add(docID)\n",
    "    \n",
    "    for key, value in invertedIndex.items():\n",
    "        invertedIndex[key] = list(value)\n",
    "\n",
    "    return invertedIndex\n",
    "\n",
    "def storeData(docIDMapping, docsSet, vocab, invertedIndex):\n",
    "    db = []\n",
    "    db.append(docIDMapping)\n",
    "    db.append(docsSet)\n",
    "    db.append(vocab)\n",
    "    db.append(invertedIndex)\n",
    "      \n",
    "    dbfile = open('data.pkl', 'ab') \n",
    "      \n",
    "    pickle.dump(db, dbfile)                      \n",
    "    dbfile.close()"
   ]
  },
  {
   "cell_type": "code",
   "execution_count": 6,
   "metadata": {},
   "outputs": [],
   "source": [
    "# document mapping: mapping document name with document id\n",
    "docIDMapping = {}\n",
    "docsSet = []\n",
    "vocab = set()\n",
    "\n",
    "docIDMapping = doc_id_mapping_fun('./20_newsgroups/')\n",
    "docsSet, vocab = preprocess_file_fun(docIDMapping)"
   ]
  },
  {
   "cell_type": "code",
   "execution_count": 7,
   "metadata": {},
   "outputs": [],
   "source": [
    "invertedIndex = create_inverted_index(docsSet, vocab)"
   ]
  },
  {
   "cell_type": "code",
   "execution_count": 8,
   "metadata": {},
   "outputs": [],
   "source": [
    "for key, value in invertedIndex.items():\n",
    "    invertedIndex[key].sort()"
   ]
  },
  {
   "cell_type": "code",
   "execution_count": 9,
   "metadata": {},
   "outputs": [],
   "source": [
    "storeData(docIDMapping, docsSet, vocab, invertedIndex)"
   ]
  },
  {
   "cell_type": "code",
   "execution_count": 10,
   "metadata": {},
   "outputs": [],
   "source": [
    "dbfile = open('data.pkl', 'rb')\n",
    "dbfile = pickle.load(dbfile)\n",
    "\n",
    "temp1 = dbfile[0]\n",
    "temp2 = dbfile[1]\n",
    "temp3 = dbfile[2]\n",
    "temp4 = dbfile[3]"
   ]
  },
  {
   "cell_type": "code",
   "execution_count": 13,
   "metadata": {},
   "outputs": [
    {
     "name": "stdout",
     "output_type": "stream",
     "text": [
      "[355, 525, 686, 750, 962, 970, 1671, 2195, 2214, 2362, 2372, 2876, 4061, 4076, 4165, 4280, 4332, 4348, 4489, 4596, 4634, 4775, 5147, 6001, 6065, 6172, 6232, 6263, 6370, 6375, 6434, 6653, 6832, 6856, 6887, 6980, 7058, 7074, 8107, 8236, 8303, 8636, 8639, 8679, 8731, 8878, 8894, 9447, 9577, 9884, 10075, 10605, 10889, 10982, 11117, 11171, 11359, 11521, 11682, 12069, 12670, 13012, 13196, 13203, 13600, 13669, 14122, 14891, 15497, 15514, 16001, 16288, 16317, 16572, 16763, 16892, 17198, 17921, 18033, 18096, 18159, 18169, 18172, 18212, 18234, 18245, 18380, 18427, 18576, 18641, 18647, 18795, 18818, 18934]\n"
     ]
    }
   ],
   "source": [
    "print(invertedIndex['101'])"
   ]
  },
  {
   "cell_type": "code",
   "execution_count": 12,
   "metadata": {},
   "outputs": [
    {
     "name": "stdout",
     "output_type": "stream",
     "text": [
      "./20_newsgroups/talk.politics.mideast/75377 156\n"
     ]
    }
   ],
   "source": [
    "i = 0\n",
    "for key, value in docIDMapping.items():\n",
    "    if (i ==156):\n",
    "        print(key, value)\n",
    "        break\n",
    "    i += 1"
   ]
  }
 ],
 "metadata": {
  "kernelspec": {
   "display_name": "Python 3",
   "language": "python",
   "name": "python3"
  },
  "language_info": {
   "codemirror_mode": {
    "name": "ipython",
    "version": 3
   },
   "file_extension": ".py",
   "mimetype": "text/x-python",
   "name": "python",
   "nbconvert_exporter": "python",
   "pygments_lexer": "ipython3",
   "version": "3.7.4"
  }
 },
 "nbformat": 4,
 "nbformat_minor": 2
}
