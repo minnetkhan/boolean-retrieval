{
 "cells": [
  {
   "cell_type": "code",
   "execution_count": 14,
   "metadata": {},
   "outputs": [],
   "source": [
    "import pandas as pd\n",
    "import numpy as np\n",
    "import os, preprocessing, pickle"
   ]
  },
  {
   "cell_type": "code",
   "execution_count": 15,
   "metadata": {},
   "outputs": [],
   "source": [
    "def doc_id_mapping_fun(dirName):\n",
    "    doc_id = 0\n",
    "    docIDMapping = {}\n",
    "    \n",
    "    for currentpath, folders, files in os.walk(dirName):\n",
    "        for file in files:\n",
    "            if not file.startswith(\".\"):\n",
    "                docIDMapping[os.path.join(currentpath, file)] = doc_id\n",
    "                doc_id += 1\n",
    "    \n",
    "    return docIDMapping\n",
    "\n",
    "\n",
    "def preprocess_file_fun(docIDMapping):\n",
    "    docsSet = []\n",
    "    vocab = set()\n",
    "    \n",
    "    for key in docIDMapping:\n",
    "        file = open(key, 'r', errors='ignore').read()\n",
    "        file = preprocessing.normalize(file)\n",
    "        docsSet.append(set(file))\n",
    "        vocab = vocab.union(set(file))\n",
    "    \n",
    "    return docsSet, vocab\n",
    "\n",
    "\n",
    "def create_inverted_index(docsSet, vocab):\n",
    "    invertedIndex = {}\n",
    "    \n",
    "    for word in vocab:\n",
    "        for docID, docSet in enumerate(docsSet):\n",
    "            if word in docSet:\n",
    "                invertedIndex.setdefault(word, set()).add(docID)\n",
    "    \n",
    "    for key, value in invertedIndex.items():\n",
    "        invertedIndex[key] = list(value)\n",
    "\n",
    "    return invertedIndex\n",
    "\n",
    "def storeData(docIDMapping, docsSet, vocab, invertedIndex):\n",
    "    db = []\n",
    "    db.append(docIDMapping)\n",
    "    db.append(docsSet)\n",
    "    db.append(vocab)\n",
    "    db.append(invertedIndex)\n",
    "      \n",
    "    dbfile = open('data.pkl', 'ab') \n",
    "      \n",
    "    pickle.dump(db, dbfile)                      \n",
    "    dbfile.close()"
   ]
  },
  {
   "cell_type": "code",
   "execution_count": 16,
   "metadata": {},
   "outputs": [],
   "source": [
    "# document mapping: mapping document name with document id\n",
    "docIDMapping = {}\n",
    "docsSet = []\n",
    "vocab = set()\n",
    "\n",
    "docIDMapping = doc_id_mapping_fun('./20_newsgroups/')\n",
    "docsSet, vocab = preprocess_file_fun(docIDMapping)"
   ]
  },
  {
   "cell_type": "code",
   "execution_count": 17,
   "metadata": {},
   "outputs": [],
   "source": [
    "invertedIndex = create_inverted_index(docsSet, vocab)"
   ]
  },
  {
   "cell_type": "code",
   "execution_count": 18,
   "metadata": {},
   "outputs": [],
   "source": [
    "for key, value in invertedIndex.items():\n",
    "    invertedIndex[key].sort()"
   ]
  },
  {
   "cell_type": "code",
   "execution_count": 19,
   "metadata": {},
   "outputs": [],
   "source": [
    "storeData(docIDMapping, docsSet, vocab, invertedIndex)"
   ]
  }
 ],
 "metadata": {
  "kernelspec": {
   "display_name": "Python 3",
   "language": "python",
   "name": "python3"
  },
  "language_info": {
   "codemirror_mode": {
    "name": "ipython",
    "version": 3
   },
   "file_extension": ".py",
   "mimetype": "text/x-python",
   "name": "python",
   "nbconvert_exporter": "python",
   "pygments_lexer": "ipython3",
   "version": "3.7.4"
  }
 },
 "nbformat": 4,
 "nbformat_minor": 2
}
